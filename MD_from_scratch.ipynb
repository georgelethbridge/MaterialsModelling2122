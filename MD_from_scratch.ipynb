{
 "cells": [
  {
   "cell_type": "markdown",
   "id": "ddc41e55",
   "metadata": {},
   "source": [
    "# Molecular dynamics from scratch\n",
    "\n",
    "let's start with a pair of atoms interacting with a Lennard Jones potential function.\n",
    "\n",
    "$E_{LJ} = 4 \\epsilon \\left[\\left( \\frac{\\sigma}{r}\\right)^{12} - \\left(\\frac{\\sigma}{r} \\right)^6 \\right]$\n",
    "\n",
    "in one dimension. Where $r$ is $¦r_i - r_j¦$.\n",
    "\n",
    "The force on the particles is given by\n",
    "$F = $"
   ]
  },
  {
   "cell_type": "code",
   "execution_count": 1,
   "id": "f00851c2",
   "metadata": {},
   "outputs": [],
   "source": [
    "import numpy as np\n",
    "from ase.io.trajectory import Trajectory\n",
    "import matplotlib.pyplot as plt"
   ]
  },
  {
   "cell_type": "code",
   "execution_count": 2,
   "id": "2dce7f9f",
   "metadata": {},
   "outputs": [],
   "source": [
    "r = np.linspace(2.5,10,100)\n",
    "epsilon = 0.1\n",
    "sigma = 3"
   ]
  },
  {
   "cell_type": "code",
   "execution_count": 3,
   "id": "45aa56be",
   "metadata": {},
   "outputs": [],
   "source": [
    "u = 4*epsilon*((sigma/r)**12-(sigma/r)**6)\n",
    "fr = 4*epsilon*(12*sigma**12*r**(-13)-6*sigma**6*r**(-7))"
   ]
  },
  {
   "cell_type": "code",
   "execution_count": 4,
   "id": "3fc34648",
   "metadata": {},
   "outputs": [
    {
     "data": {
      "text/plain": [
       "(-0.1, 0.1)"
      ]
     },
     "execution_count": 4,
     "metadata": {},
     "output_type": "execute_result"
    },
    {
     "data": {
      "image/png": "[encoded data removed]",
      "text/plain": [
       "<Figure size 432x288 with 1 Axes>"
      ]
     },
     "metadata": {
      "needs_background": "light"
     },
     "output_type": "display_data"
    }
   ],
   "source": [
    "plt.plot(r,u)\n",
    "plt.ylim(-0.1,0.1)"
   ]
  },
  {
   "cell_type": "code",
   "execution_count": 5,
   "id": "e2d5a5aa",
   "metadata": {},
   "outputs": [
    {
     "data": {
      "text/plain": [
       "(-0.1, 0.2)"
      ]
     },
     "execution_count": 5,
     "metadata": {},
     "output_type": "execute_result"
    },
    {
     "data": {
      "image/png": "[encoded data removed]",
      "text/plain": [
       "<Figure size 432x288 with 1 Axes>"
      ]
     },
     "metadata": {
      "needs_background": "light"
     },
     "output_type": "display_data"
    }
   ],
   "source": [
    "for i in range(100):\n",
    "    if r[i] > 0: \n",
    "        dr = -1.0\n",
    "    else:\n",
    "        dr = 1.0\n",
    "\n",
    "F = - fr * dr\n",
    "\n",
    "plt.plot(r,F)\n",
    "plt.ylim(-0.1,0.2)"
   ]
  },
  {
   "cell_type": "markdown",
   "id": "83f79241",
   "metadata": {},
   "source": [
    "### Units\n",
    "the units of the LJ potential are defined by $\\epsilon$ - I'd probably use eV for that. $\\sigma$ has dimensions of inverse length and cancels the units of $r$ but I'll use $\\unicode{xC5}$.\n",
    "\n",
    "The kinetic energy is given by $\\frac{1}{2}m \\mathbf{v.v}$. "
   ]
  },
  {
   "cell_type": "markdown",
   "id": "8244248c",
   "metadata": {},
   "source": [
    "## Model Code"
   ]
  },
  {
   "cell_type": "code",
   "execution_count": 6,
   "id": "c736f911",
   "metadata": {},
   "outputs": [],
   "source": [
    "from ase import Atoms\n",
    "from ase.io.trajectory import Trajectory\n",
    "import numpy as np"
   ]
  },
  {
   "cell_type": "code",
   "execution_count": 21,
   "id": "94360a18",
   "metadata": {},
   "outputs": [],
   "source": [
    "box=100\n",
    "def energyij(model, atomi, atomj):\n",
    "    \"\"\"calculates the Lennard Jones potential energy of two particles\n",
    "    model - model data structure\n",
    "    atomi - index of atom i\n",
    "    atomj - index of atom j\n",
    "    \"\"\"\n",
    "    r = np.linalg.norm(model['atoms'][atomi].position - model['atoms'][atomj].position)\n",
    "    if (r>box):\n",
    "        {r == r - box}\n",
    "    u = 4*epsilon*((sigma/r)**12-(sigma/r)**6)\n",
    "    return u\n",
    "\n",
    "def forceij(model, atomi, atomj):\n",
    "    \"\"\"calculates the Lennard Jones force between two particles\n",
    "    model - model data structure\n",
    "    atomi - index of atom i\n",
    "    atomj - index of atom j\n",
    "    returns forces on atom i, fi,  and atom j, fj\n",
    "    \"\"\"\n",
    "    #get magnitude and direction of forces - use Newton's 3rd law for fi = -fj \n",
    "    r = np.linalg.norm(model['atoms'][atomi].position - model['atoms'][atomj].position)\n",
    "    if (r>box):\n",
    "        {r == r - box}\n",
    "    dir = (model['atoms'][atomi].position - model['atoms'][atomj].position)/r\n",
    "    #calc force magnitude\n",
    "    fr = -4*epsilon*(12*sigma**12*r**(-13)-6*sigma**6*r**(-7))\n",
    "    return -fr*dir, fr*dir"
   ]
  },
  {
   "cell_type": "markdown",
   "id": "00eb6b20",
   "metadata": {},
   "source": [
    "#### setup our model - we'll store everything in a dictionary"
   ]
  },
  {
   "cell_type": "code",
   "execution_count": 38,
   "id": "fbe9cfaf",
   "metadata": {},
   "outputs": [],
   "source": [
    "nsteps = 2000\n",
    "dt = 0.1\n",
    "mass = 1.0\n",
    "d = 3.3\n",
    "output_freq = 1\n",
    "atoms = Atoms('Ar64', positions=[(0.0, 0.0, 0.0),(0.0,0.0,d), (0.0,0.0,2*d), (0.0,0.0,3*d),\n",
    "                               (d, 0.0, 0.0),(d,0.0,d), (d,0.0,2*d), (d,0.0,3*d),\n",
    "                               (2*d, 0.0, 0.0),(2*d,0.0,d), (2*d,0.00,2*d), (2*d,0.0,3*d),\n",
    "                               (3*d, 0.0, 0.0),(3*d,0.0,d), (3*d,0.0,2*d), (3*d,0.0,3*d),\n",
    "                                 (0.0, d, 0.0),(0.0,d,d), (0.0,d,2*d), (0.0,d,3*d),\n",
    "                               (d, d, 0.0),(d,d,d), (d,d,2*d), (d,d,3*d),\n",
    "                               (2*d, d, 0.0),(2*d,d,d), (2*d,d,2*d), (2*d,d,3*d),\n",
    "                               (3*d, d, 0.0),(3*d,d,d), (3*d,d,2*d), (3*d,d,3*d),\n",
    "                                (0.0, 2*d, 0.0),(0.0,2*d,d), (0.0,2*d,2*d), (0.0,2*d,3*d),\n",
    "                               (d, 2*d, 0.0),(d,2*d,d), (d,2*d,2*d), (d,2*d,3*d),\n",
    "                               (2*d, 2*d, 0.0),(2*d,2*d,d), (2*d,2*d,2*d), (2*d,2*d,3*d),\n",
    "                               (3*d, 2*d, 0.0),(3*d,2*d,d), (3*d,2*d,2*d), (3*d,2*d,3*d),\n",
    "                                (0.0, 3*d, 0.0),(0.0,3*d,d), (0.0,3*d,2*d), (0.0,3*d,3*d),\n",
    "                               (d, 3*d, 0.0),(d,3*d,d), (d,3*d,2*d), (d,3*d,3*d),\n",
    "                               (2*d, 3*d, 0.0),(2*d,3*d,d), (2*d,3*d,2*d), (2*d,3*d,3*d),\n",
    "                               (3*d, 3*d, 0.0),(3*d,3*d,d), (3*d,3*d,2*d), (3*d,3*d,3*d)])\n",
    "#atoms = Atoms('Ar2', positions=[(0.0, 0.0, 0.0),(0.0,0.0,d)])\n",
    "natoms = len(atoms)\n",
    "model = dict(natoms = natoms,\n",
    "             atoms = atoms,\n",
    "             vel = np.zeros((natoms,3)), \n",
    "             forcestp1 = np.zeros((natoms,3)),  \n",
    "             forcest = np.zeros((natoms,3)),  \n",
    "             pot_energy = [], \n",
    "             KE = [],\n",
    "             traj = [],\n",
    "             potential = energyij,\n",
    "             temp_pos = np.zeros((natoms,3)),\n",
    "             temp_vel = np.zeros((natoms,3)),\n",
    "             output_freq = output_freq,\n",
    "             integrator = 'vverlet'\n",
    ")"
   ]
  },
  {
   "cell_type": "code",
   "execution_count": 39,
   "id": "d98e204c",
   "metadata": {},
   "outputs": [],
   "source": [
    "def integrate(model):\n",
    "    KE = 0\n",
    "    for atomi in range(model['natoms']):\n",
    "        if model['integrator'] == 'Euler':\n",
    "            pot_energy = calcForces(model)\n",
    "            model['atoms'][atomi].position += model['vel'][atomi]*dt + 0.5*model['forcestp1'][atomi]/mass*dt**2\n",
    "            model['vel'][atomi] += model['forcestp1'][atomi]/mass*dt\n",
    "\n",
    "        elif model['integrator'] == 'vverlet':\n",
    "            model['forcest'] =  np.copy(model['forcestp1'])\n",
    "            model['atoms'][atomi].position += model['vel'][atomi]*dt + 0.5*model['forcest'][atomi]/mass*dt**2\n",
    "            pot_energy = calcForces(model)\n",
    "            model['vel'][atomi] += 0.5*(model['forcest'][atomi]+model['forcestp1'][atomi])/mass*dt            \n",
    "\n",
    "        else:\n",
    "            print('no known integrator! falling back on Euler')\n",
    "            pot_energy = calcForces(model)\n",
    "            model['atoms'][atomi].position += model['vel'][atomi]*dt + 0.5*model['forcestp1'][atomi]/mass*dt**2\n",
    "            model['vel'][atomi] += model['forcestp1'][atomi]/mass*dt\n",
    "            \n",
    "        KE += np.dot(model['vel'][atomi],model['vel'][atomi])\n",
    "\n",
    "    return pot_energy, KE"
   ]
  },
  {
   "cell_type": "markdown",
   "id": "79ceb310",
   "metadata": {},
   "source": [
    "If we have pair potential forces only dependent on the distance, $r_{ij}$ , between a pair of particles we have that\n",
    "$$\n",
    "\\mathbf{F_i} = \\frac{\\partial U}{\\partial r_{ij}} \\cdot \\frac{\\mathbf{r_{ij}}}{r_{ij}}\n",
    "$$\n",
    "and $\\mathbf{F_j} = -\\mathbf{F_i}$ (Newton's law or due to the change in sign of $\\mathbf{r_{ji}}$). \n",
    "\n",
    "If we have have multiple particles we should add up all the unique pairs of interactions: "
   ]
  },
  {
   "cell_type": "code",
   "execution_count": 40,
   "id": "467db977",
   "metadata": {},
   "outputs": [],
   "source": [
    "def calcForces(model):\n",
    "    energy = 0\n",
    "    # remember to reset forces at each step\n",
    "    model['forcestp1'][:] = 0.0\n",
    "    for atomi in range(model['natoms']):\n",
    "        #avoid double counting\n",
    "        for atomj in range(atomi+1, natoms):\n",
    "            energy += model['potential'](model, atomi, atomj)\n",
    "            fi, fj = forceij(model,atomi,atomj)\n",
    "            model['forcestp1'][atomi] += fi\n",
    "            model['forcestp1'][atomj] += fj\n",
    "    #print(model['forcestp1'])\n",
    "    return energy"
   ]
  },
  {
   "cell_type": "code",
   "execution_count": null,
   "id": "ac9e604d",
   "metadata": {},
   "outputs": [],
   "source": [
    "# actual MD code\n",
    "#calc energy / forces\n",
    "calcForces(model)\n",
    "\n",
    "for step in range(nsteps):\n",
    "\n",
    "    # integrate\n",
    "    pot_energy, KE = integrate(model)\n",
    "    \n",
    "    # save data\n",
    "    model['pot_energy'].append(pot_energy)\n",
    "    model['KE'].append(0.5*mass*KE)\n",
    "    if not step%model['output_freq']:\n",
    "        # need to copy otherwise jwe ust get a pointer to the latest temp_pos\n",
    "        model['traj'].append(np.copy(model['atoms'].positions))    "
   ]
  },
  {
   "cell_type": "code",
   "execution_count": null,
   "id": "15b85bcf",
   "metadata": {},
   "outputs": [],
   "source": [
    "#plt.plot(model['pot_energy'], label='PE')\n",
    "plt.plot(np.array(model['KE']), label='KE')\n",
    "#plt.plot(model['pot_energy'] + np.array(model['KE']), label='total')\n",
    "plt.legend()"
   ]
  },
  {
   "cell_type": "markdown",
   "id": "3024d71b",
   "metadata": {},
   "source": [
    "## Visualisation"
   ]
  },
  {
   "cell_type": "code",
   "execution_count": null,
   "id": "c2ba226e",
   "metadata": {},
   "outputs": [],
   "source": [
    "import nglview as nv"
   ]
  },
  {
   "cell_type": "code",
   "execution_count": 36,
   "id": "c8dc1090",
   "metadata": {},
   "outputs": [],
   "source": [
    "# need to export then reimport at ASE traj ...\n",
    "# this should go into the dump / output part of the md code\n",
    "mytraj = Trajectory('mytraj.traj', mode='w')\n",
    "for traj in model['traj']:\n",
    "    atoms.positions=traj\n",
    "    mytraj.write(atoms=atoms)\n",
    "mytraj.close()\n",
    "myreadtraj =  Trajectory('mytraj.traj', mode='r')"
   ]
  },
  {
   "cell_type": "code",
   "execution_count": 37,
   "id": "27b8871c",
   "metadata": {},
   "outputs": [
    {
     "data": {
      "application/vnd.jupyter.widget-view+json": {
       "model_id": "298d0ba961034d9e8e274551e43efb6f",
       "version_major": 2,
       "version_minor": 0
      },
      "text/plain": [
       "NGLWidget(max_frame=1999)"
      ]
     },
     "metadata": {},
     "output_type": "display_data"
    }
   ],
   "source": [
    "# viewer - needs ase traj data type\n",
    "nv.show_asetraj(myreadtraj)"
   ]
  },
  {
   "cell_type": "code",
   "execution_count": 16,
   "id": "22bc7bd4",
   "metadata": {},
   "outputs": [],
   "source": [
    "#v.custom_colors({'O':'green','H':'blue'})\n",
    "#v.view._remote_call(\"setSize\", target=\"Widget\", args=[\"400px\", \"400px\"])\n",
    "#v.view.center()\n",
    "#v.view.background='white'\n",
    "#v.view.add_ball_and_stick()\n",
    "#v.view.parameters=dict(clipDist=-200)"
   ]
  },
  {
   "cell_type": "code",
   "execution_count": 17,
   "id": "dfa0715b",
   "metadata": {},
   "outputs": [
    {
     "data": {
      "text/plain": [
       "2000"
      ]
     },
     "execution_count": 17,
     "metadata": {},
     "output_type": "execute_result"
    }
   ],
   "source": [
    "len(myreadtraj)"
   ]
  }
 ],
 "metadata": {
  "kernelspec": {
   "display_name": "Python 3 (ipykernel)",
   "language": "python",
   "name": "python3"
  },
  "language_info": {
   "codemirror_mode": {
    "name": "ipython",
    "version": 3
   },
   "file_extension": ".py",
   "mimetype": "text/x-python",
   "name": "python",
   "nbconvert_exporter": "python",
   "pygments_lexer": "ipython3",
   "version": "3.8.12"
  }
 },
 "nbformat": 4,
 "nbformat_minor": 5
}
