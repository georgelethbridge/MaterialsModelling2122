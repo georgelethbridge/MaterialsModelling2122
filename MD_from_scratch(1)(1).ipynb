{
 "cells": [
  {
   "cell_type": "markdown",
   "id": "aa28fcdf",
   "metadata": {},
   "source": [
    "# Molecular dynamics from scratch\n",
    "\n",
    "let's start with a pair of atoms interacting with a Lennard Jones potential function.\n",
    "\n",
    "$E_{LJ} = 4 \\epsilon \\left[\\left( \\frac{\\sigma}{r}\\right)^{12} - \\left(\\frac{\\sigma}{r} \\right)^6 \\right]$\n",
    "\n",
    "in one dimension. Where $r$ is $¦r_i - r_j¦$.\n",
    "\n",
    "The force on the particles is given by\n",
    "$F = $"
   ]
  },
  {
   "cell_type": "code",
   "execution_count": 88,
   "id": "f0da2b95",
   "metadata": {},
   "outputs": [],
   "source": [
    "import numpy as np\n",
    "from scipy.constants import Boltzmann\n",
    "from ase.io.trajectory import Trajectory\n",
    "import matplotlib.pyplot as plt"
   ]
  },
  {
   "cell_type": "code",
   "execution_count": 2,
   "id": "853843a2",
   "metadata": {},
   "outputs": [],
   "source": [
    "r = np.linspace(2.5,10)\n",
    "epsilon = 0.1 # eV\n",
    "sigma = 3 # Angstrom"
   ]
  },
  {
   "cell_type": "code",
   "execution_count": 3,
   "id": "2df5e353",
   "metadata": {},
   "outputs": [],
   "source": [
    "u = 4*epsilon*((sigma/r)**12-(sigma/r)**6)\n",
    "fr = 4*epsilon*(12*sigma**12*r**(-13)-6*sigma**6*r**(-7))"
   ]
  },
  {
   "cell_type": "code",
   "execution_count": 4,
   "id": "6046a4ac",
   "metadata": {},
   "outputs": [
    {
     "data": {
      "text/plain": [
       "(-0.1, 0.1)"
      ]
     },
     "execution_count": 4,
     "metadata": {},
     "output_type": "execute_result"
    },
    {
     "data": {
      "image/png": "[encoded data removed]",
      "text/plain": [
       "<Figure size 432x288 with 1 Axes>"
      ]
     },
     "metadata": {
      "needs_background": "light"
     },
     "output_type": "display_data"
    }
   ],
   "source": [
    "plt.plot(r,u)\n",
    "plt.ylim(-0.1,0.1)"
   ]
  },
  {
   "cell_type": "code",
   "execution_count": 5,
   "id": "d7f27cbb",
   "metadata": {},
   "outputs": [
    {
     "data": {
      "text/plain": [
       "(-0.2, 0.2)"
      ]
     },
     "execution_count": 5,
     "metadata": {},
     "output_type": "execute_result"
    },
    {
     "data": {
      "image/png": "[encoded data removed]",
      "text/plain": [
       "<Figure size 432x288 with 1 Axes>"
      ]
     },
     "metadata": {
      "needs_background": "light"
     },
     "output_type": "display_data"
    }
   ],
   "source": [
    "plt.plot(r,fr)\n",
    "plt.ylim(-0.2,0.2)"
   ]
  },
  {
   "cell_type": "markdown",
   "id": "3ef7838c",
   "metadata": {},
   "source": [
    "### Units\n",
    "the units of the LJ potential are defined by $\\epsilon$ - I'd probably use eV for that. $\\sigma$ has dimensions of inverse length and cancels the units of $r$ but I'll use $\\unicode{xC5}$.\n",
    "\n",
    "The kinetic energy is given by $\\frac{1}{2}m \\mathbf{v.v}$. "
   ]
  },
  {
   "cell_type": "markdown",
   "id": "1a6fc781",
   "metadata": {},
   "source": [
    "## Model Code"
   ]
  },
  {
   "cell_type": "code",
   "execution_count": 6,
   "id": "713bb99c",
   "metadata": {},
   "outputs": [],
   "source": [
    "from ase import Atoms\n",
    "from ase.io.trajectory import Trajectory\n",
    "import numpy as np"
   ]
  },
  {
   "cell_type": "code",
   "execution_count": 7,
   "id": "1917c648",
   "metadata": {},
   "outputs": [],
   "source": [
    "def energyij(model, atomi, atomj):\n",
    "    \"\"\"calculates the Lennard Jones potential energy of two particles\n",
    "    model - model data structure\n",
    "    atomi - index of atom i\n",
    "    atomj - index of atom j\n",
    "    \"\"\"\n",
    "    r = np.linalg.norm(model['atoms'][atomi].position - model['atoms'][atomj].position)\n",
    "    u = 4*epsilon*((sigma/r)**12-(sigma/r)**6)\n",
    "    return u\n",
    "\n",
    "def forceij(model, atomi, atomj):\n",
    "    \"\"\"calculates the Lennard Jones force between two particles\n",
    "    model - model data structure\n",
    "    atomi - index of atom i\n",
    "    atomj - index of atom j\n",
    "    returns forces on atom i, fi,  and atom j, fj\n",
    "    \"\"\"\n",
    "    #get magnitude and direction of forces - use Newton's 3rd law for fi = -fj \n",
    "    r = np.linalg.norm(model['atoms'][atomi].position - model['atoms'][atomj].position)\n",
    "    dir = (model['atoms'][atomi].position - model['atoms'][atomj].position)/r\n",
    "    #calc force magnitude\n",
    "    fr = -4*epsilon*(12*sigma**12*r**(-13)-6*sigma**6*r**(-7))\n",
    "    return -fr*dir, fr*dir"
   ]
  },
  {
   "cell_type": "markdown",
   "id": "aa9d430f",
   "metadata": {},
   "source": [
    "#### setup our model - we'll store everything in a dictionary\n",
    "\n",
    "we'll use the ASE build module to build our initial model"
   ]
  },
  {
   "cell_type": "code",
   "execution_count": 8,
   "id": "7b60fc7a",
   "metadata": {},
   "outputs": [
    {
     "data": {
      "text/plain": [
       "3.464101615137755"
      ]
     },
     "execution_count": 8,
     "metadata": {},
     "output_type": "execute_result"
    }
   ],
   "source": [
    "3/(np.sqrt(3)/2)"
   ]
  },
  {
   "cell_type": "code",
   "execution_count": 69,
   "id": "2e7a3fda",
   "metadata": {},
   "outputs": [
    {
     "data": {
      "text/plain": [
       "Atoms(symbols='Ar32', pbc=True, cell=[9.0, 9.0, 9.0])"
      ]
     },
     "execution_count": 69,
     "metadata": {},
     "output_type": "execute_result"
    }
   ],
   "source": [
    "import ase.build as build\n",
    "# make a conventional face centred cube of Ar atoms \n",
    "mycell = build.bulk('Ar', 'fcc', a=4.5, cubic=True)\n",
    "# make a 2 x 2 x supecell as specified by the P matrix\n",
    "mysupercell = build.supercells.make_supercell(mycell, P=([[2,0,0],[0,2,0],[0,0,2]]))\n",
    "#mysupercell = build.supercells.make_supercell(mycell, P=([[4,0,0],[0,4,0],[0,0,4]]))\n",
    "mysupercell"
   ]
  },
  {
   "cell_type": "markdown",
   "id": "843693b8",
   "metadata": {},
   "source": [
    "now to setup the parameters"
   ]
  },
  {
   "cell_type": "code",
   "execution_count": 70,
   "id": "4c6fa823",
   "metadata": {},
   "outputs": [],
   "source": [
    "nsteps = 3000\n",
    "dt = 0.1\n",
    "mass = 1.0\n",
    "d = 4.7\n",
    "output_freq = 10\n",
    "#atoms = Atoms('Ar4', positions=[(0.0, 0.0, 0.0),(d,0.0,0), (2*d,0.0,0.0), (3*d,0.0,0.0)])\n",
    "atoms = mysupercell\n",
    "#atoms = Atoms('Ar2', positions=[(0.0, 0.0, 0.0),(0.0,0.0,d)])\n",
    "natoms = len(atoms)"
   ]
  },
  {
   "cell_type": "code",
   "execution_count": 71,
   "id": "0c7d34c5",
   "metadata": {},
   "outputs": [
    {
     "data": {
      "text/plain": [
       "Atoms(symbols='Ar32', pbc=True, cell=[9.0, 9.0, 9.0])"
      ]
     },
     "execution_count": 71,
     "metadata": {},
     "output_type": "execute_result"
    }
   ],
   "source": [
    "model = dict(natoms = natoms,\n",
    "             atoms = atoms,\n",
    "             vel = np.zeros((natoms,3)), \n",
    "             forcestp1 = np.zeros((natoms,3)),  \n",
    "             forcest = np.zeros((natoms,3)),  \n",
    "             pot_energy = [], \n",
    "             KE = [],\n",
    "             traj = [],\n",
    "             potential = energyij,\n",
    "             temp_pos = np.zeros((natoms,3)),\n",
    "             temp_vel = np.zeros((natoms,3)),\n",
    "             output_freq = output_freq,\n",
    "             integrator = 'vverlet'\n",
    ")\n",
    "model['atoms']"
   ]
  },
  {
   "cell_type": "code",
   "execution_count": 72,
   "id": "27aa685a",
   "metadata": {},
   "outputs": [],
   "source": [
    "def integrate(model):\n",
    "    KE = 0\n",
    "    if model['integrator'] == 'Euler':\n",
    "        pot_energy = calcForces(model)\n",
    "        model['atoms'].positions += model['vel'][:]*dt + 0.5*model['forcestp1'][:]/mass*dt**2\n",
    "        model['vel'][:] += model['forcestp1'][:]/mass*dt\n",
    "\n",
    "    elif model['integrator'] == 'vverlet':\n",
    "        model['forcest'] =  np.copy(model['forcestp1'])\n",
    "        model['atoms'].positions += model['vel'][:]*dt + 0.5*model['forcest'][:]/mass*dt**2\n",
    "        pot_energy = calcForces(model)\n",
    "        model['vel'][:] += 0.5*(model['forcest'][:] + model['forcestp1'][:])/mass*dt            \n",
    "\n",
    "    else:\n",
    "        print('no known integrator! falling back on Euler')\n",
    "        pot_energy = calcForces(model)\n",
    "        model['atoms'].positions += model['vel'][:]*dt + 0.5*model['forcestp1'][:]/mass*dt**2\n",
    "        model['vel'][:] += model['forcestp1'][:]/mass*dt\n",
    "    \n",
    "    # fancy way of calculating the KE, not sure if it is faster\n",
    "    #KE = np.sum(np.array([np.dot(model['vel'][i],model['vel'][i]) for i in range(model['natoms'])]))\n",
    "    \n",
    "    for i in range(model['natoms']):\n",
    "        KE += np.dot(model['vel'][i],model['vel'][i])\n",
    "\n",
    "    return pot_energy, KE"
   ]
  },
  {
   "cell_type": "markdown",
   "id": "6da8dbb3",
   "metadata": {},
   "source": [
    "If we have pair potential forces only dependent on the distance, $r_{ij}$ , between a pair of particles we have that\n",
    "$$\n",
    "\\mathbf{F_i} = \\frac{\\partial U}{\\partial r_{ij}} \\cdot \\frac{\\mathbf{r_{ij}}}{r_{ij}}\n",
    "$$\n",
    "and $\\mathbf{F_j} = -\\mathbf{F_i}$ (Newton's law or due to the change in sign of $\\mathbf{r_{ji}}$). \n",
    "\n",
    "If we have have multiple particles we should add up all the unique pairs of interactions: "
   ]
  },
  {
   "cell_type": "code",
   "execution_count": 74,
   "id": "8ab4d31b",
   "metadata": {},
   "outputs": [],
   "source": [
    "def calcForces(model):\n",
    "    energy = 0\n",
    "    # remember to reset forces at each step\n",
    "    model['forcestp1'][:] = 0.0\n",
    "    for atomi in range(model['natoms']):\n",
    "        #avoid double counting\n",
    "        for atomj in range(atomi+1, natoms):\n",
    "            energy += model['potential'](model, atomi, atomj)\n",
    "            fi, fj = forceij(model,atomi,atomj)\n",
    "            model['forcestp1'][atomi] += fi\n",
    "            model['forcestp1'][atomj] += fj\n",
    "    #print(model['forcestp1'])\n",
    "    return energy"
   ]
  },
  {
   "cell_type": "code",
   "execution_count": 75,
   "id": "96de4987",
   "metadata": {},
   "outputs": [
    {
     "name": "stdout",
     "output_type": "stream",
     "text": [
      "step 0\n",
      "step 10\n",
      "step 20\n",
      "step 30\n",
      "step 40\n",
      "step 50\n",
      "step 60\n",
      "step 70\n",
      "step 80\n",
      "step 90\n",
      "step 100\n",
      "step 110\n",
      "step 120\n",
      "step 130\n",
      "step 140\n",
      "step 150\n",
      "step 160\n",
      "step 170\n",
      "step 180\n",
      "step 190\n",
      "step 200\n",
      "step 210\n",
      "step 220\n",
      "step 230\n",
      "step 240\n",
      "step 250\n",
      "step 260\n",
      "step 270\n",
      "step 280\n",
      "step 290\n",
      "step 300\n",
      "step 310\n",
      "step 320\n",
      "step 330\n",
      "step 340\n",
      "step 350\n",
      "step 360\n",
      "step 370\n",
      "step 380\n",
      "step 390\n",
      "step 400\n",
      "step 410\n",
      "step 420\n",
      "step 430\n",
      "step 440\n",
      "step 450\n",
      "step 460\n",
      "step 470\n",
      "step 480\n",
      "step 490\n",
      "step 500\n",
      "step 510\n",
      "step 520\n",
      "step 530\n",
      "step 540\n",
      "step 550\n",
      "step 560\n",
      "step 570\n",
      "step 580\n",
      "step 590\n",
      "step 600\n",
      "step 610\n",
      "step 620\n",
      "step 630\n",
      "step 640\n",
      "step 650\n",
      "step 660\n",
      "step 670\n",
      "step 680\n",
      "step 690\n",
      "step 700\n",
      "step 710\n",
      "step 720\n",
      "step 730\n",
      "step 740\n",
      "step 750\n",
      "step 760\n",
      "step 770\n",
      "step 780\n",
      "step 790\n",
      "step 800\n",
      "step 810\n",
      "step 820\n",
      "step 830\n",
      "step 840\n",
      "step 850\n",
      "step 860\n",
      "step 870\n",
      "step 880\n",
      "step 890\n",
      "step 900\n",
      "step 910\n",
      "step 920\n",
      "step 930\n",
      "step 940\n",
      "step 950\n",
      "step 960\n",
      "step 970\n",
      "step 980\n",
      "step 990\n",
      "step 1000\n",
      "step 1010\n",
      "step 1020\n",
      "step 1030\n",
      "step 1040\n",
      "step 1050\n",
      "step 1060\n",
      "step 1070\n",
      "step 1080\n",
      "step 1090\n",
      "step 1100\n",
      "step 1110\n",
      "step 1120\n",
      "step 1130\n",
      "step 1140\n",
      "step 1150\n",
      "step 1160\n",
      "step 1170\n",
      "step 1180\n",
      "step 1190\n",
      "step 1200\n",
      "step 1210\n",
      "step 1220\n",
      "step 1230\n",
      "step 1240\n",
      "step 1250\n",
      "step 1260\n",
      "step 1270\n",
      "step 1280\n",
      "step 1290\n",
      "step 1300\n",
      "step 1310\n",
      "step 1320\n",
      "step 1330\n",
      "step 1340\n",
      "step 1350\n",
      "step 1360\n",
      "step 1370\n",
      "step 1380\n",
      "step 1390\n",
      "step 1400\n",
      "step 1410\n",
      "step 1420\n",
      "step 1430\n",
      "step 1440\n",
      "step 1450\n",
      "step 1460\n",
      "step 1470\n",
      "step 1480\n",
      "step 1490\n",
      "step 1500\n",
      "step 1510\n",
      "step 1520\n",
      "step 1530\n",
      "step 1540\n",
      "step 1550\n",
      "step 1560\n",
      "step 1570\n",
      "step 1580\n",
      "step 1590\n",
      "step 1600\n",
      "step 1610\n",
      "step 1620\n",
      "step 1630\n",
      "step 1640\n",
      "step 1650\n",
      "step 1660\n",
      "step 1670\n",
      "step 1680\n",
      "step 1690\n",
      "step 1700\n",
      "step 1710\n",
      "step 1720\n",
      "step 1730\n",
      "step 1740\n",
      "step 1750\n",
      "step 1760\n",
      "step 1770\n",
      "step 1780\n",
      "step 1790\n",
      "step 1800\n",
      "step 1810\n",
      "step 1820\n",
      "step 1830\n",
      "step 1840\n",
      "step 1850\n",
      "step 1860\n",
      "step 1870\n",
      "step 1880\n",
      "step 1890\n",
      "step 1900\n",
      "step 1910\n",
      "step 1920\n",
      "step 1930\n",
      "step 1940\n",
      "step 1950\n",
      "step 1960\n",
      "step 1970\n",
      "step 1980\n",
      "step 1990\n",
      "step 2000\n",
      "step 2010\n",
      "step 2020\n",
      "step 2030\n",
      "step 2040\n",
      "step 2050\n",
      "step 2060\n",
      "step 2070\n",
      "step 2080\n",
      "step 2090\n",
      "step 2100\n",
      "step 2110\n",
      "step 2120\n",
      "step 2130\n",
      "step 2140\n",
      "step 2150\n",
      "step 2160\n",
      "step 2170\n",
      "step 2180\n",
      "step 2190\n",
      "step 2200\n",
      "step 2210\n",
      "step 2220\n",
      "step 2230\n",
      "step 2240\n",
      "step 2250\n",
      "step 2260\n",
      "step 2270\n",
      "step 2280\n",
      "step 2290\n",
      "step 2300\n",
      "step 2310\n",
      "step 2320\n",
      "step 2330\n",
      "step 2340\n",
      "step 2350\n",
      "step 2360\n",
      "step 2370\n",
      "step 2380\n",
      "step 2390\n",
      "step 2400\n",
      "step 2410\n",
      "step 2420\n",
      "step 2430\n",
      "step 2440\n",
      "step 2450\n",
      "step 2460\n",
      "step 2470\n",
      "step 2480\n",
      "step 2490\n",
      "step 2500\n",
      "step 2510\n",
      "step 2520\n",
      "step 2530\n",
      "step 2540\n",
      "step 2550\n",
      "step 2560\n",
      "step 2570\n",
      "step 2580\n",
      "step 2590\n",
      "step 2600\n",
      "step 2610\n",
      "step 2620\n",
      "step 2630\n",
      "step 2640\n",
      "step 2650\n",
      "step 2660\n",
      "step 2670\n",
      "step 2680\n",
      "step 2690\n",
      "step 2700\n",
      "step 2710\n",
      "step 2720\n",
      "step 2730\n",
      "step 2740\n",
      "step 2750\n",
      "step 2760\n",
      "step 2770\n",
      "step 2780\n",
      "step 2790\n",
      "step 2800\n",
      "step 2810\n",
      "step 2820\n",
      "step 2830\n",
      "step 2840\n",
      "step 2850\n",
      "step 2860\n",
      "step 2870\n",
      "step 2880\n",
      "step 2890\n",
      "step 2900\n",
      "step 2910\n",
      "step 2920\n",
      "step 2930\n",
      "step 2940\n",
      "step 2950\n",
      "step 2960\n",
      "step 2970\n",
      "step 2980\n",
      "step 2990\n"
     ]
    }
   ],
   "source": [
    "# actual MD code\n",
    "#calc energy / forces\n",
    "calcForces(model)\n",
    "\n",
    "for step in range(nsteps):\n",
    "\n",
    "    # integrate\n",
    "    pot_energy, KE = integrate(model)\n",
    "    #print(model['forcestp1'])\n",
    "    \n",
    "    # save data\n",
    "    model['pot_energy'].append(pot_energy)\n",
    "    model['KE'].append(0.5*mass*KE)\n",
    "    if not step%model['output_freq']:\n",
    "        print(\"step {}\".format(step))\n",
    "        # need to copy otherwise we just get a pointer to the latest temp_pos\n",
    "        model['traj'].append(np.copy(model['atoms'].positions))    "
   ]
  },
  {
   "cell_type": "code",
   "execution_count": 76,
   "id": "99187ccc",
   "metadata": {},
   "outputs": [
    {
     "data": {
      "text/plain": [
       "<matplotlib.legend.Legend at 0x20e3f28de50>"
      ]
     },
     "execution_count": 76,
     "metadata": {},
     "output_type": "execute_result"
    },
    {
     "data": {
      "image/png": "[encoded data removed]",
      "text/plain": [
       "<Figure size 432x288 with 1 Axes>"
      ]
     },
     "metadata": {
      "needs_background": "light"
     },
     "output_type": "display_data"
    }
   ],
   "source": [
    "plt.plot(model['pot_energy'], label='PE')\n",
    "plt.plot(np.array(model['KE']), label='KE')\n",
    "plt.plot(model['pot_energy'] + np.array(model['KE']), label='total')\n",
    "plt.legend()"
   ]
  },
  {
   "cell_type": "markdown",
   "id": "6935e425",
   "metadata": {},
   "source": [
    "## Visualisation"
   ]
  },
  {
   "cell_type": "code",
   "execution_count": 46,
   "id": "ba837776",
   "metadata": {},
   "outputs": [],
   "source": [
    "import nglview as nv"
   ]
  },
  {
   "cell_type": "code",
   "execution_count": 77,
   "id": "0db557af",
   "metadata": {},
   "outputs": [],
   "source": [
    "# need to export then reimport at ASE traj ...\n",
    "# this should go into the dump / output part of the md code\n",
    "mytraj = Trajectory('mytraj.traj', mode='w')\n",
    "for traj in model['traj']:\n",
    "    atoms.positions=traj\n",
    "    mytraj.write(atoms=atoms)\n",
    "mytraj.close()\n",
    "myreadtraj =  Trajectory('mytraj.traj', mode='r')"
   ]
  },
  {
   "cell_type": "code",
   "execution_count": 96,
   "id": "4f064362",
   "metadata": {},
   "outputs": [
    {
     "data": {
      "application/vnd.jupyter.widget-view+json": {
       "model_id": "085570ea91544decb9edd62558bc0f85",
       "version_major": 2,
       "version_minor": 0
      },
      "text/plain": [
       "NGLWidget(max_frame=299)"
      ]
     },
     "metadata": {},
     "output_type": "display_data"
    }
   ],
   "source": [
    "# viewer - needs ase traj data type\n",
    "view = nv.show_asetraj(myreadtraj)\n",
    "view.background = 'white'\n",
    "view._remote_call(\"setSize\", target=\"Widget\", args=[\"400px\", \"400px\"])\n",
    "view"
   ]
  },
  {
   "cell_type": "code",
   "execution_count": 95,
   "id": "750166f5",
   "metadata": {},
   "outputs": [
    {
     "ename": "TypeError",
     "evalue": "ufunc 'bitwise_xor' not supported for the input types, and the inputs could not be safely coerced to any supported types according to the casting rule ''safe''",
     "output_type": "error",
     "traceback": [
      "\u001b[1;31m---------------------------------------------------------------------------\u001b[0m",
      "\u001b[1;31mTypeError\u001b[0m                                 Traceback (most recent call last)",
      "\u001b[1;32m~\\AppData\\Local\\Temp/ipykernel_2420/4121541820.py\u001b[0m in \u001b[0;36m<module>\u001b[1;34m\u001b[0m\n\u001b[1;32m----> 1\u001b[1;33m \u001b[0mtemperature\u001b[0m \u001b[1;33m+=\u001b[0m \u001b[1;33m(\u001b[0m\u001b[0mmass\u001b[0m\u001b[1;33m*\u001b[0m\u001b[1;33m(\u001b[0m\u001b[0mmodel\u001b[0m\u001b[1;33m[\u001b[0m\u001b[1;34m'vel'\u001b[0m\u001b[1;33m]\u001b[0m\u001b[1;33m[\u001b[0m\u001b[1;33m:\u001b[0m\u001b[1;33m]\u001b[0m\u001b[1;33m)\u001b[0m\u001b[1;33m^\u001b[0m\u001b[1;36m2\u001b[0m\u001b[1;33m)\u001b[0m\u001b[1;33m/\u001b[0m\u001b[1;33m(\u001b[0m\u001b[1;36m3\u001b[0m\u001b[1;33m*\u001b[0m\u001b[0mBoltzmann\u001b[0m \u001b[1;33m*\u001b[0m \u001b[0mmodel\u001b[0m\u001b[1;33m[\u001b[0m\u001b[1;34m'natoms'\u001b[0m\u001b[1;33m]\u001b[0m\u001b[1;33m)\u001b[0m\u001b[1;33m\u001b[0m\u001b[1;33m\u001b[0m\u001b[0m\n\u001b[0m\u001b[0;32m      2\u001b[0m \u001b[0mtemperature\u001b[0m\u001b[1;33m\u001b[0m\u001b[1;33m\u001b[0m\u001b[0m\n",
      "\u001b[1;31mTypeError\u001b[0m: ufunc 'bitwise_xor' not supported for the input types, and the inputs could not be safely coerced to any supported types according to the casting rule ''safe''"
     ]
    }
   ],
   "source": [
    "temperature += (mass*(model['vel'][:])^2)/(3*Boltzmann * model['natoms'])\n",
    "temperature"
   ]
  }
 ],
 "metadata": {
  "kernelspec": {
   "display_name": "Python 3 (ipykernel)",
   "language": "python",
   "name": "python3"
  },
  "language_info": {
   "codemirror_mode": {
    "name": "ipython",
    "version": 3
   },
   "file_extension": ".py",
   "mimetype": "text/x-python",
   "name": "python",
   "nbconvert_exporter": "python",
   "pygments_lexer": "ipython3",
   "version": "3.8.12"
  }
 },
 "nbformat": 4,
 "nbformat_minor": 5
}
