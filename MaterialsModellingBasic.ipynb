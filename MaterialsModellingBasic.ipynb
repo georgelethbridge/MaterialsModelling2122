{
  "nbformat": 4,
  "nbformat_minor": 0,
  "metadata": {
    "kernelspec": {
      "display_name": "Python 3",
      "language": "python",
      "name": "python3"
    },
    "language_info": {
      "codemirror_mode": {
        "name": "ipython",
        "version": 3
      },
      "file_extension": ".py",
      "mimetype": "text/x-python",
      "name": "python",
      "nbconvert_exporter": "python",
      "pygments_lexer": "ipython3",
      "version": "3.8.3"
    },
    "colab": {
      "name": "MaterialsModellingBasic.ipynb",
      "provenance": []
    }
  },
  "cells": [
    {
      "cell_type": "markdown",
      "metadata": {
        "id": "1e06_-GhCH-U"
      },
      "source": [
        "# Molecular dynamics from scratch\n",
        "\n",
        "Lennard Jones Potential:\n",
        "$ E_{LJ} = 4 \\epsilon \\left[ \\left(\\frac{\\sigma}{r_{ij}}\\right)^{12} - \\left(\\frac{\\sigma}{r_{ij}}\\right)^{6} \\right]$\n",
        "\n",
        "in 1D where $r$ is $|r_i - r_j|$\n",
        "\n",
        "$F_i = - \\frac{\\delta U(r)}{\\delta r} \\frac{\\delta r_{ij}}{\\delta r_{ix}}$\n",
        "\n",
        "$\\rightarrow 4\\epsilon \\left[ 12 \\frac{\\sigma^{12}}{r^{13}} - 6 \\frac{\\sigma ^{6}}{r^{7}}\\right] * 1$"
      ]
    },
    {
      "cell_type": "code",
      "metadata": {
        "id": "2mVHEZZQCH-Z"
      },
      "source": [
        "import numpy as np\n",
        "import matplotlib.pyplot as plt"
      ],
      "execution_count": 4,
      "outputs": []
    },
    {
      "cell_type": "code",
      "metadata": {
        "id": "SqLp5TM6CH-a"
      },
      "source": [
        "r = np.linspace(2.5,10,100)\n",
        "epsilon = 0.1\n",
        "sigma = 3.0"
      ],
      "execution_count": 9,
      "outputs": []
    },
    {
      "cell_type": "code",
      "metadata": {
        "id": "VGLXhlFaCH-b"
      },
      "source": [
        "u = 4*epsilon*(((sigma/r)**12)-((sigma/r)**6))\n",
        "diff = 48*epsilon*(((sigma**12)/(r**13))-0.5*((sigma**6)/(r**7)))"
      ],
      "execution_count": 12,
      "outputs": []
    },
    {
      "cell_type": "code",
      "metadata": {
        "id": "A4Fc_VtTCH-b",
        "outputId": "1c99a7a2-4529-41c7-c476-49c24686c193",
        "colab": {
          "base_uri": "https://localhost:8080/",
          "height": 282
        }
      },
      "source": [
        "x = np.linspace(0.75,5,100)\n",
        "plt.plot(r,u)\n"
      ],
      "execution_count": 8,
      "outputs": [
        {
          "output_type": "execute_result",
          "data": {
            "text/plain": [
              "[<matplotlib.lines.Line2D at 0x7f24ceeedc50>]"
            ]
          },
          "metadata": {},
          "execution_count": 8
        },
        {
          "output_type": "display_data",
          "data": {
            "image/png": "[encoded data removed]",
            "text/plain": [
              "<Figure size 432x288 with 1 Axes>"
            ]
          },
          "metadata": {
            "needs_background": "light"
          }
        }
      ]
    },
    {
      "cell_type": "code",
      "metadata": {
        "id": "4_Y70_TpCH-d"
      },
      "source": [
        "# logic to evaluate the derivate of the absolute operator\n",
        "for i in range(100):\n",
        "  if r[i] > 0: \n",
        "    dr = -1.0\n",
        "  else:\n",
        "    dr = 1.0\n"
      ],
      "execution_count": 17,
      "outputs": []
    },
    {
      "cell_type": "code",
      "metadata": {
        "id": "WmeZxURVCH-d",
        "outputId": "168856e7-700a-4b99-e59f-6185d32c1f14",
        "colab": {
          "base_uri": "https://localhost:8080/",
          "height": 282
        }
      },
      "source": [
        "F = -diff * dr\n",
        "plt.plot(F,r)"
      ],
      "execution_count": 18,
      "outputs": [
        {
          "output_type": "execute_result",
          "data": {
            "text/plain": [
              "[<matplotlib.lines.Line2D at 0x7f24ca8b27d0>]"
            ]
          },
          "metadata": {},
          "execution_count": 18
        },
        {
          "output_type": "display_data",
          "data": {
            "image/png": "[encoded data removed]",
            "text/plain": [
              "<Figure size 432x288 with 1 Axes>"
            ]
          },
          "metadata": {
            "needs_background": "light"
          }
        }
      ]
    }
  ]
}