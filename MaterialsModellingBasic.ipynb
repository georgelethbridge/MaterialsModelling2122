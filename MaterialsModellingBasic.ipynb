{
 "cells": [
  {
   "cell_type": "markdown",
   "metadata": {},
   "source": [
    "# Molecular dynamics from scratch\n",
    "\n",
    "Lennard Jones Potential:\n",
    "$ E_{LJ} = 4 \\epsilon \\left[ \\left(\\frac{\\sigma}{r_{ij}}\\right)^{12} - \\left(\\frac{\\sigma}{r_{ij}}\\right)^{6} \\right]$\n",
    "\n",
    "in 1D where $r$ is $|r_i - r_j|$\n",
    "\n",
    "$F_i = - \\frac{\\delta U(r)}{\\delta r} \\frac{\\delta r_{ij}}{\\delta r_{ix}}$\n",
    "\n",
    "$\\rightarrow 4\\epsilon \\left[ 12 \\frac{\\sigma^{12}}{r^{13}} - 6 \\frac{\\sigma ^{6}}{r^{7}}\\right] * 1$"
   ]
  },
  {
   "cell_type": "code",
   "execution_count": 2,
   "metadata": {},
   "outputs": [],
   "source": [
    "import numpy as np\n",
    "import matplotlib.pyplot as plt"
   ]
  },
  {
   "cell_type": "code",
   "execution_count": 6,
   "metadata": {},
   "outputs": [],
   "source": [
    "r = np.linspace(2.5,10)\n",
    "epsilon = 0.1\n",
    "sigma = 3"
   ]
  },
  {
   "cell_type": "code",
   "execution_count": 7,
   "metadata": {},
   "outputs": [],
   "source": [
    "u = 4*epsilon*(((sigma/r)**12)-((sigma/r)**6))\n",
    "F = 48*epsilon*(((sigma**12)/(r**13))-0.5*((sigma**6)/(r**7)))"
   ]
  },
  {
   "cell_type": "code",
   "execution_count": 8,
   "metadata": {},
   "outputs": [
    {
     "data": {
      "text/plain": [
       "[<matplotlib.lines.Line2D at 0x29cb3507280>]"
      ]
     },
     "execution_count": 8,
     "metadata": {},
     "output_type": "execute_result"
    },
    {
     "data": {
      "image/png": "[encoded data removed]",
      "text/plain": [
       "<Figure size 432x288 with 1 Axes>"
      ]
     },
     "metadata": {
      "needs_background": "light"
     },
     "output_type": "display_data"
    }
   ],
   "source": [
    "plt.plot(F,r)"
   ]
  }
 ],
 "metadata": {
  "kernelspec": {
   "display_name": "Python 3",
   "language": "python",
   "name": "python3"
  },
  "language_info": {
   "codemirror_mode": {
    "name": "ipython",
    "version": 3
   },
   "file_extension": ".py",
   "mimetype": "text/x-python",
   "name": "python",
   "nbconvert_exporter": "python",
   "pygments_lexer": "ipython3",
   "version": "3.8.3"
  }
 },
 "nbformat": 4,
 "nbformat_minor": 4
}
